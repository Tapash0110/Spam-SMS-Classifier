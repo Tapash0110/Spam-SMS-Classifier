{
 "cells": [
  {
   "cell_type": "code",
   "execution_count": 2,
   "id": "7e986f6d-70a9-49b4-bcd6-213d073822d2",
   "metadata": {},
   "outputs": [],
   "source": [
    "import numpy as np \n",
    "import pandas as pd \n",
    "\n",
    "import matplotlib.pyplot as plt\n",
    "import seaborn as sns\n",
    "%matplotlib inline\n",
    "\n",
    "from sklearn.preprocessing import MinMaxScaler\n",
    "\n",
    "from sklearn.naive_bayes import MultinomialNB\n",
    "\n",
    "\n",
    "from sklearn.pipeline import Pipeline\n",
    "from sklearn.model_selection import GridSearchCV\n",
    "from sklearn.metrics import classification_report, confusion_matrix, accuracy_score\n",
    "\n",
    "\n",
    "import nltk\n",
    "from nltk.corpus import stopwords\n",
    "from nltk.tokenize import word_tokenize \n",
    "\n",
    "import os"
   ]
  },
  {
   "cell_type": "code",
   "execution_count": 3,
   "id": "82368c08-542a-4d00-8362-791c12a9c6ab",
   "metadata": {},
   "outputs": [
    {
     "data": {
      "text/html": [
       "<div>\n",
       "<style scoped>\n",
       "    .dataframe tbody tr th:only-of-type {\n",
       "        vertical-align: middle;\n",
       "    }\n",
       "\n",
       "    .dataframe tbody tr th {\n",
       "        vertical-align: top;\n",
       "    }\n",
       "\n",
       "    .dataframe thead th {\n",
       "        text-align: right;\n",
       "    }\n",
       "</style>\n",
       "<table border=\"1\" class=\"dataframe\">\n",
       "  <thead>\n",
       "    <tr style=\"text-align: right;\">\n",
       "      <th></th>\n",
       "      <th>Class</th>\n",
       "      <th>Message</th>\n",
       "    </tr>\n",
       "  </thead>\n",
       "  <tbody>\n",
       "    <tr>\n",
       "      <th>0</th>\n",
       "      <td>ham</td>\n",
       "      <td>Go until jurong point, crazy.. Available only ...</td>\n",
       "    </tr>\n",
       "    <tr>\n",
       "      <th>1</th>\n",
       "      <td>ham</td>\n",
       "      <td>Ok lar... Joking wif u oni...</td>\n",
       "    </tr>\n",
       "    <tr>\n",
       "      <th>2</th>\n",
       "      <td>spam</td>\n",
       "      <td>Free entry in 2 a wkly comp to win FA Cup fina...</td>\n",
       "    </tr>\n",
       "    <tr>\n",
       "      <th>3</th>\n",
       "      <td>ham</td>\n",
       "      <td>U dun say so early hor... U c already then say...</td>\n",
       "    </tr>\n",
       "    <tr>\n",
       "      <th>4</th>\n",
       "      <td>ham</td>\n",
       "      <td>Nah I don't think he goes to usf, he lives aro...</td>\n",
       "    </tr>\n",
       "  </tbody>\n",
       "</table>\n",
       "</div>"
      ],
      "text/plain": [
       "  Class                                            Message\n",
       "0   ham  Go until jurong point, crazy.. Available only ...\n",
       "1   ham                      Ok lar... Joking wif u oni...\n",
       "2  spam  Free entry in 2 a wkly comp to win FA Cup fina...\n",
       "3   ham  U dun say so early hor... U c already then say...\n",
       "4   ham  Nah I don't think he goes to usf, he lives aro..."
      ]
     },
     "execution_count": 3,
     "metadata": {},
     "output_type": "execute_result"
    }
   ],
   "source": [
    "data = pd.read_csv(\"Spam_SMS.csv\")\n",
    "data.head()"
   ]
  },
  {
   "cell_type": "code",
   "execution_count": 4,
   "id": "e0c18af3-af6e-4ded-ae8e-6b3997cb953d",
   "metadata": {},
   "outputs": [
    {
     "data": {
      "text/html": [
       "<div>\n",
       "<style scoped>\n",
       "    .dataframe tbody tr th:only-of-type {\n",
       "        vertical-align: middle;\n",
       "    }\n",
       "\n",
       "    .dataframe tbody tr th {\n",
       "        vertical-align: top;\n",
       "    }\n",
       "\n",
       "    .dataframe thead th {\n",
       "        text-align: right;\n",
       "    }\n",
       "</style>\n",
       "<table border=\"1\" class=\"dataframe\">\n",
       "  <thead>\n",
       "    <tr style=\"text-align: right;\">\n",
       "      <th></th>\n",
       "      <th>Class</th>\n",
       "      <th>Message</th>\n",
       "    </tr>\n",
       "  </thead>\n",
       "  <tbody>\n",
       "    <tr>\n",
       "      <th>count</th>\n",
       "      <td>5574</td>\n",
       "      <td>5574</td>\n",
       "    </tr>\n",
       "    <tr>\n",
       "      <th>unique</th>\n",
       "      <td>2</td>\n",
       "      <td>5159</td>\n",
       "    </tr>\n",
       "    <tr>\n",
       "      <th>top</th>\n",
       "      <td>ham</td>\n",
       "      <td>Sorry, I'll call later</td>\n",
       "    </tr>\n",
       "    <tr>\n",
       "      <th>freq</th>\n",
       "      <td>4827</td>\n",
       "      <td>30</td>\n",
       "    </tr>\n",
       "  </tbody>\n",
       "</table>\n",
       "</div>"
      ],
      "text/plain": [
       "       Class                 Message\n",
       "count   5574                    5574\n",
       "unique     2                    5159\n",
       "top      ham  Sorry, I'll call later\n",
       "freq    4827                      30"
      ]
     },
     "execution_count": 4,
     "metadata": {},
     "output_type": "execute_result"
    }
   ],
   "source": [
    "data.describe()"
   ]
  },
  {
   "cell_type": "code",
   "execution_count": 5,
   "id": "0300de76-b75f-4d6c-87a5-61599814e2f3",
   "metadata": {},
   "outputs": [],
   "source": [
    "data = data.rename(columns={\"Class\":\"label\", \"Message\":\"text\"})"
   ]
  },
  {
   "cell_type": "code",
   "execution_count": 6,
   "id": "98dd42f7-1a37-4214-a206-343c1710fead",
   "metadata": {},
   "outputs": [
    {
     "data": {
      "text/html": [
       "<div>\n",
       "<style scoped>\n",
       "    .dataframe tbody tr th:only-of-type {\n",
       "        vertical-align: middle;\n",
       "    }\n",
       "\n",
       "    .dataframe tbody tr th {\n",
       "        vertical-align: top;\n",
       "    }\n",
       "\n",
       "    .dataframe thead tr th {\n",
       "        text-align: left;\n",
       "    }\n",
       "\n",
       "    .dataframe thead tr:last-of-type th {\n",
       "        text-align: right;\n",
       "    }\n",
       "</style>\n",
       "<table border=\"1\" class=\"dataframe\">\n",
       "  <thead>\n",
       "    <tr>\n",
       "      <th></th>\n",
       "      <th colspan=\"4\" halign=\"left\">text</th>\n",
       "    </tr>\n",
       "    <tr>\n",
       "      <th></th>\n",
       "      <th>count</th>\n",
       "      <th>unique</th>\n",
       "      <th>top</th>\n",
       "      <th>freq</th>\n",
       "    </tr>\n",
       "    <tr>\n",
       "      <th>label</th>\n",
       "      <th></th>\n",
       "      <th></th>\n",
       "      <th></th>\n",
       "      <th></th>\n",
       "    </tr>\n",
       "  </thead>\n",
       "  <tbody>\n",
       "    <tr>\n",
       "      <th>ham</th>\n",
       "      <td>4827</td>\n",
       "      <td>4518</td>\n",
       "      <td>Sorry, I'll call later</td>\n",
       "      <td>30</td>\n",
       "    </tr>\n",
       "    <tr>\n",
       "      <th>spam</th>\n",
       "      <td>747</td>\n",
       "      <td>641</td>\n",
       "      <td>Please call our customer service representativ...</td>\n",
       "      <td>4</td>\n",
       "    </tr>\n",
       "  </tbody>\n",
       "</table>\n",
       "</div>"
      ],
      "text/plain": [
       "       text                                                               \n",
       "      count unique                                                top freq\n",
       "label                                                                     \n",
       "ham    4827   4518                             Sorry, I'll call later   30\n",
       "spam    747    641  Please call our customer service representativ...    4"
      ]
     },
     "execution_count": 6,
     "metadata": {},
     "output_type": "execute_result"
    }
   ],
   "source": [
    "data.groupby(\"label\").describe()"
   ]
  },
  {
   "cell_type": "code",
   "execution_count": 7,
   "id": "71faecaa-8a4b-41ec-bbc1-dbe19c82e4a2",
   "metadata": {},
   "outputs": [
    {
     "data": {
      "text/plain": [
       "label\n",
       "ham     4827\n",
       "spam     747\n",
       "Name: count, dtype: int64"
      ]
     },
     "execution_count": 7,
     "metadata": {},
     "output_type": "execute_result"
    }
   ],
   "source": [
    "data.label.value_counts()"
   ]
  },
  {
   "cell_type": "code",
   "execution_count": 8,
   "id": "bbda7542-5046-4347-85d5-bfed43548dd6",
   "metadata": {},
   "outputs": [
    {
     "data": {
      "image/png": "[encoded data removed]",
      "text/plain": [
       "<Figure size 640x480 with 1 Axes>"
      ]
     },
     "metadata": {},
     "output_type": "display_data"
    }
   ],
   "source": [
    "data.label.value_counts().plot.bar();"
   ]
  },
  {
   "cell_type": "code",
   "execution_count": 9,
   "id": "c89c0cc6-bb97-4458-a44f-20232a82fa30",
   "metadata": {},
   "outputs": [
    {
     "data": {
      "text/html": [
       "<div>\n",
       "<style scoped>\n",
       "    .dataframe tbody tr th:only-of-type {\n",
       "        vertical-align: middle;\n",
       "    }\n",
       "\n",
       "    .dataframe tbody tr th {\n",
       "        vertical-align: top;\n",
       "    }\n",
       "\n",
       "    .dataframe thead th {\n",
       "        text-align: right;\n",
       "    }\n",
       "</style>\n",
       "<table border=\"1\" class=\"dataframe\">\n",
       "  <thead>\n",
       "    <tr style=\"text-align: right;\">\n",
       "      <th></th>\n",
       "      <th>label</th>\n",
       "      <th>text</th>\n",
       "      <th>spam</th>\n",
       "    </tr>\n",
       "  </thead>\n",
       "  <tbody>\n",
       "    <tr>\n",
       "      <th>0</th>\n",
       "      <td>ham</td>\n",
       "      <td>Go until jurong point, crazy.. Available only ...</td>\n",
       "      <td>0</td>\n",
       "    </tr>\n",
       "    <tr>\n",
       "      <th>1</th>\n",
       "      <td>ham</td>\n",
       "      <td>Ok lar... Joking wif u oni...</td>\n",
       "      <td>0</td>\n",
       "    </tr>\n",
       "    <tr>\n",
       "      <th>2</th>\n",
       "      <td>spam</td>\n",
       "      <td>Free entry in 2 a wkly comp to win FA Cup fina...</td>\n",
       "      <td>1</td>\n",
       "    </tr>\n",
       "    <tr>\n",
       "      <th>3</th>\n",
       "      <td>ham</td>\n",
       "      <td>U dun say so early hor... U c already then say...</td>\n",
       "      <td>0</td>\n",
       "    </tr>\n",
       "    <tr>\n",
       "      <th>4</th>\n",
       "      <td>ham</td>\n",
       "      <td>Nah I don't think he goes to usf, he lives aro...</td>\n",
       "      <td>0</td>\n",
       "    </tr>\n",
       "    <tr>\n",
       "      <th>5</th>\n",
       "      <td>spam</td>\n",
       "      <td>FreeMsg Hey there darling it's been 3 week's n...</td>\n",
       "      <td>1</td>\n",
       "    </tr>\n",
       "    <tr>\n",
       "      <th>6</th>\n",
       "      <td>ham</td>\n",
       "      <td>Even my brother is not like to speak with me. ...</td>\n",
       "      <td>0</td>\n",
       "    </tr>\n",
       "    <tr>\n",
       "      <th>7</th>\n",
       "      <td>ham</td>\n",
       "      <td>As per your request 'Melle Melle (Oru Minnamin...</td>\n",
       "      <td>0</td>\n",
       "    </tr>\n",
       "    <tr>\n",
       "      <th>8</th>\n",
       "      <td>spam</td>\n",
       "      <td>WINNER!! As a valued network customer you have...</td>\n",
       "      <td>1</td>\n",
       "    </tr>\n",
       "    <tr>\n",
       "      <th>9</th>\n",
       "      <td>spam</td>\n",
       "      <td>Had your mobile 11 months or more? U R entitle...</td>\n",
       "      <td>1</td>\n",
       "    </tr>\n",
       "  </tbody>\n",
       "</table>\n",
       "</div>"
      ],
      "text/plain": [
       "  label                                               text  spam\n",
       "0   ham  Go until jurong point, crazy.. Available only ...     0\n",
       "1   ham                      Ok lar... Joking wif u oni...     0\n",
       "2  spam  Free entry in 2 a wkly comp to win FA Cup fina...     1\n",
       "3   ham  U dun say so early hor... U c already then say...     0\n",
       "4   ham  Nah I don't think he goes to usf, he lives aro...     0\n",
       "5  spam  FreeMsg Hey there darling it's been 3 week's n...     1\n",
       "6   ham  Even my brother is not like to speak with me. ...     0\n",
       "7   ham  As per your request 'Melle Melle (Oru Minnamin...     0\n",
       "8  spam  WINNER!! As a valued network customer you have...     1\n",
       "9  spam  Had your mobile 11 months or more? U R entitle...     1"
      ]
     },
     "execution_count": 9,
     "metadata": {},
     "output_type": "execute_result"
    }
   ],
   "source": [
    "data['spam'] = data['label'].map( {'spam': 1, 'ham': 0} ).astype(int)\n",
    "data.head(10)"
   ]
  },
  {
   "cell_type": "code",
   "execution_count": 10,
   "id": "70b3b219-43ab-4a62-b1cf-197dd1c35c8f",
   "metadata": {},
   "outputs": [
    {
     "data": {
      "text/html": [
       "<div>\n",
       "<style scoped>\n",
       "    .dataframe tbody tr th:only-of-type {\n",
       "        vertical-align: middle;\n",
       "    }\n",
       "\n",
       "    .dataframe tbody tr th {\n",
       "        vertical-align: top;\n",
       "    }\n",
       "\n",
       "    .dataframe thead th {\n",
       "        text-align: right;\n",
       "    }\n",
       "</style>\n",
       "<table border=\"1\" class=\"dataframe\">\n",
       "  <thead>\n",
       "    <tr style=\"text-align: right;\">\n",
       "      <th></th>\n",
       "      <th>label</th>\n",
       "      <th>text</th>\n",
       "      <th>spam</th>\n",
       "      <th>length</th>\n",
       "    </tr>\n",
       "  </thead>\n",
       "  <tbody>\n",
       "    <tr>\n",
       "      <th>0</th>\n",
       "      <td>ham</td>\n",
       "      <td>Go until jurong point, crazy.. Available only ...</td>\n",
       "      <td>0</td>\n",
       "      <td>111</td>\n",
       "    </tr>\n",
       "    <tr>\n",
       "      <th>1</th>\n",
       "      <td>ham</td>\n",
       "      <td>Ok lar... Joking wif u oni...</td>\n",
       "      <td>0</td>\n",
       "      <td>29</td>\n",
       "    </tr>\n",
       "    <tr>\n",
       "      <th>2</th>\n",
       "      <td>spam</td>\n",
       "      <td>Free entry in 2 a wkly comp to win FA Cup fina...</td>\n",
       "      <td>1</td>\n",
       "      <td>155</td>\n",
       "    </tr>\n",
       "    <tr>\n",
       "      <th>3</th>\n",
       "      <td>ham</td>\n",
       "      <td>U dun say so early hor... U c already then say...</td>\n",
       "      <td>0</td>\n",
       "      <td>49</td>\n",
       "    </tr>\n",
       "    <tr>\n",
       "      <th>4</th>\n",
       "      <td>ham</td>\n",
       "      <td>Nah I don't think he goes to usf, he lives aro...</td>\n",
       "      <td>0</td>\n",
       "      <td>61</td>\n",
       "    </tr>\n",
       "    <tr>\n",
       "      <th>5</th>\n",
       "      <td>spam</td>\n",
       "      <td>FreeMsg Hey there darling it's been 3 week's n...</td>\n",
       "      <td>1</td>\n",
       "      <td>147</td>\n",
       "    </tr>\n",
       "    <tr>\n",
       "      <th>6</th>\n",
       "      <td>ham</td>\n",
       "      <td>Even my brother is not like to speak with me. ...</td>\n",
       "      <td>0</td>\n",
       "      <td>77</td>\n",
       "    </tr>\n",
       "    <tr>\n",
       "      <th>7</th>\n",
       "      <td>ham</td>\n",
       "      <td>As per your request 'Melle Melle (Oru Minnamin...</td>\n",
       "      <td>0</td>\n",
       "      <td>160</td>\n",
       "    </tr>\n",
       "    <tr>\n",
       "      <th>8</th>\n",
       "      <td>spam</td>\n",
       "      <td>WINNER!! As a valued network customer you have...</td>\n",
       "      <td>1</td>\n",
       "      <td>157</td>\n",
       "    </tr>\n",
       "    <tr>\n",
       "      <th>9</th>\n",
       "      <td>spam</td>\n",
       "      <td>Had your mobile 11 months or more? U R entitle...</td>\n",
       "      <td>1</td>\n",
       "      <td>154</td>\n",
       "    </tr>\n",
       "  </tbody>\n",
       "</table>\n",
       "</div>"
      ],
      "text/plain": [
       "  label                                               text  spam  length\n",
       "0   ham  Go until jurong point, crazy.. Available only ...     0     111\n",
       "1   ham                      Ok lar... Joking wif u oni...     0      29\n",
       "2  spam  Free entry in 2 a wkly comp to win FA Cup fina...     1     155\n",
       "3   ham  U dun say so early hor... U c already then say...     0      49\n",
       "4   ham  Nah I don't think he goes to usf, he lives aro...     0      61\n",
       "5  spam  FreeMsg Hey there darling it's been 3 week's n...     1     147\n",
       "6   ham  Even my brother is not like to speak with me. ...     0      77\n",
       "7   ham  As per your request 'Melle Melle (Oru Minnamin...     0     160\n",
       "8  spam  WINNER!! As a valued network customer you have...     1     157\n",
       "9  spam  Had your mobile 11 months or more? U R entitle...     1     154"
      ]
     },
     "execution_count": 10,
     "metadata": {},
     "output_type": "execute_result"
    }
   ],
   "source": [
    "data['length'] = data['text'].apply(len)\n",
    "data.head(10)"
   ]
  },
  {
   "cell_type": "code",
   "execution_count": 11,
   "id": "a7de4e20-e7ed-42d6-9b4a-54baf436b161",
   "metadata": {},
   "outputs": [
    {
     "data": {
      "image/png": "[encoded data removed]",
      "text/plain": [
       "<Figure size 1200x400 with 2 Axes>"
      ]
     },
     "metadata": {},
     "output_type": "display_data"
    }
   ],
   "source": [
    "data.hist(column='length',by='label',bins=60,figsize=(12,4));\n",
    "plt.xlim(-40,600);"
   ]
  },
  {
   "cell_type": "code",
   "execution_count": 12,
   "id": "21f0e503-294c-4f26-b07a-b8c821f8c5c6",
   "metadata": {},
   "outputs": [],
   "source": [
    "data_ham  = data[data['spam'] == 0].copy()\n",
    "data_spam = data[data['spam'] == 1].copy()"
   ]
  },
  {
   "cell_type": "code",
   "execution_count": 13,
   "id": "8f251ce9-ee7c-4adb-9a4b-e599ba2cce92",
   "metadata": {},
   "outputs": [
    {
     "data": {
      "text/plain": [
       "['here', 'there', 'when', 'where', 'why', 'how', 'all', 'any', 'both', 'each']"
      ]
     },
     "execution_count": 13,
     "metadata": {},
     "output_type": "execute_result"
    }
   ],
   "source": [
    "import string\n",
    "string.punctuation\n",
    "from nltk.corpus import stopwords\n",
    "stopwords.words(\"english\")[100:110]"
   ]
  },
  {
   "cell_type": "code",
   "execution_count": 14,
   "id": "4c9f6b31-70e5-4df9-885b-134ba8df64e5",
   "metadata": {},
   "outputs": [],
   "source": [
    "def remove_punctuation_and_stopwords(sms):\n",
    "    \n",
    "    sms_no_punctuation = [ch for ch in sms if ch not in string.punctuation]\n",
    "    sms_no_punctuation = \"\".join(sms_no_punctuation).split()\n",
    "    \n",
    "    sms_no_punctuation_no_stopwords = \\\n",
    "        [word.lower() for word in sms_no_punctuation if word.lower() not in stopwords.words(\"english\")]\n",
    "        \n",
    "    return sms_no_punctuation_no_stopwords\n",
    "    "
   ]
  },
  {
   "cell_type": "code",
   "execution_count": 15,
   "id": "82a10397-855d-48c4-90b7-644df9c83b59",
   "metadata": {},
   "outputs": [
    {
     "data": {
      "text/plain": [
       "0    [go, jurong, point, crazy, available, bugis, n...\n",
       "1                       [ok, lar, joking, wif, u, oni]\n",
       "2    [free, entry, 2, wkly, comp, win, fa, cup, fin...\n",
       "Name: text, dtype: object"
      ]
     },
     "execution_count": 15,
     "metadata": {},
     "output_type": "execute_result"
    }
   ],
   "source": [
    "data['text'].apply(remove_punctuation_and_stopwords).head(3)"
   ]
  },
  {
   "cell_type": "code",
   "execution_count": 16,
   "id": "4d7df2e3-f5e8-4cbd-95ed-56968f998177",
   "metadata": {},
   "outputs": [],
   "source": [
    "from collections import Counter"
   ]
  },
  {
   "cell_type": "code",
   "execution_count": 17,
   "id": "5d12ece3-81f8-4161-ac05-92abdda70ba8",
   "metadata": {},
   "outputs": [],
   "source": [
    "data_ham.loc[:, 'text'] = data_ham['text'].apply(remove_punctuation_and_stopwords)\n",
    "words_data_ham = data_ham['text'].tolist()\n",
    "data_spam.loc[:, 'text'] = data_spam['text'].apply(remove_punctuation_and_stopwords)\n",
    "words_data_spam = data_spam['text'].tolist()"
   ]
  },
  {
   "cell_type": "code",
   "execution_count": 18,
   "id": "bcbeb3cc-f896-4659-98da-382823452d46",
   "metadata": {},
   "outputs": [],
   "source": [
    "list_ham_words = []\n",
    "for sublist in words_data_ham:\n",
    "    for item in sublist:\n",
    "        list_ham_words.append(item)\n",
    "list_spam_words = []\n",
    "for sublist in words_data_spam:\n",
    "    for item in sublist:\n",
    "        list_spam_words.append(item)       "
   ]
  },
  {
   "cell_type": "code",
   "execution_count": 19,
   "id": "80f9ed85-9f0d-487b-9fd4-8e4a62540a71",
   "metadata": {},
   "outputs": [],
   "source": [
    "c_ham  = Counter(list_ham_words)\n",
    "c_spam = Counter(list_spam_words)\n",
    "df_hamwords_top30  = pd.DataFrame(c_ham.most_common(30),  columns=['word', 'count'])\n",
    "df_spamwords_top30 = pd.DataFrame(c_spam.most_common(30), columns=['word', 'count'])"
   ]
  },
  {
   "cell_type": "code",
   "execution_count": 20,
   "id": "048ecc10-0fb0-46f5-bff3-8aeb17fb534c",
   "metadata": {},
   "outputs": [
    {
     "name": "stderr",
     "output_type": "stream",
     "text": [
      "C:\\Users\\tejas\\AppData\\Local\\Temp\\ipykernel_11560\\3077249696.py:2: FutureWarning: \n",
      "\n",
      "Passing `palette` without assigning `hue` is deprecated and will be removed in v0.14.0. Assign the `x` variable to `hue` and set `legend=False` for the same effect.\n",
      "\n",
      "  sns.barplot(x='word', y='count',\n"
     ]
    },
    {
     "data": {
      "image/png": "[encoded data removed]",
      "text/plain": [
       "<Figure size 1000x600 with 1 Axes>"
      ]
     },
     "metadata": {},
     "output_type": "display_data"
    }
   ],
   "source": [
    "fig, ax = plt.subplots(figsize=(10, 6))\n",
    "sns.barplot(x='word', y='count', \n",
    "            data=df_hamwords_top30, ax=ax,palette=sns.color_palette(\"hsv\", len(df_hamwords_top30)))\n",
    "plt.title(\"Top 30 Ham words\")\n",
    "plt.xticks(rotation='vertical');"
   ]
  },
  {
   "cell_type": "code",
   "execution_count": 21,
   "id": "15a6d431-d67d-4af3-b328-9f1deb493abc",
   "metadata": {},
   "outputs": [
    {
     "name": "stderr",
     "output_type": "stream",
     "text": [
      "C:\\Users\\tejas\\AppData\\Local\\Temp\\ipykernel_11560\\2788258725.py:2: FutureWarning: \n",
      "\n",
      "Passing `palette` without assigning `hue` is deprecated and will be removed in v0.14.0. Assign the `x` variable to `hue` and set `legend=False` for the same effect.\n",
      "\n",
      "  sns.barplot(x='word', y='count',\n"
     ]
    },
    {
     "data": {
      "image/png": "[encoded data removed]",
      "text/plain": [
       "<Figure size 1000x600 with 1 Axes>"
      ]
     },
     "metadata": {},
     "output_type": "display_data"
    }
   ],
   "source": [
    "fig, ax = plt.subplots(figsize=(10, 6))\n",
    "sns.barplot(x='word', y='count', \n",
    "            data=df_spamwords_top30, ax=ax,palette=sns.color_palette(\"hsv\", len(df_hamwords_top30)))\n",
    "plt.title(\"Top 30 Spam words\")\n",
    "plt.xticks(rotation='vertical');"
   ]
  },
  {
   "cell_type": "code",
   "execution_count": 23,
   "id": "99c7c3a2-0b9b-4b09-a5bf-ed2963ccd149",
   "metadata": {},
   "outputs": [],
   "source": [
    "fdist_ham  = nltk.FreqDist(list_ham_words)\n",
    "fdist_spam = nltk.FreqDist(list_spam_words)"
   ]
  },
  {
   "cell_type": "code",
   "execution_count": 24,
   "id": "5fbeae13-fdf8-456a-982b-47645028c6ac",
   "metadata": {},
   "outputs": [],
   "source": [
    "df_hamwords_top30_nltk  = pd.DataFrame(fdist_ham.most_common(30),  columns=['word', 'count'])\n",
    "df_spamwords_top30_nltk = pd.DataFrame(fdist_spam.most_common(30), columns=['word', 'count'])"
   ]
  },
  {
   "cell_type": "code",
   "execution_count": 25,
   "id": "850e4040-f80f-4438-ae23-c464b1a4602e",
   "metadata": {},
   "outputs": [
    {
     "name": "stderr",
     "output_type": "stream",
     "text": [
      "C:\\Users\\tejas\\AppData\\Local\\Temp\\ipykernel_11560\\674300920.py:2: FutureWarning: \n",
      "\n",
      "Passing `palette` without assigning `hue` is deprecated and will be removed in v0.14.0. Assign the `x` variable to `hue` and set `legend=False` for the same effect.\n",
      "\n",
      "  sns.barplot(x='word', y='count',\n"
     ]
    },
    {
     "data": {
      "image/png": "[encoded data removed]",
      "text/plain": [
       "<Figure size 1000x600 with 1 Axes>"
      ]
     },
     "metadata": {},
     "output_type": "display_data"
    }
   ],
   "source": [
    "fig, ax = plt.subplots(figsize=(10, 6))\n",
    "sns.barplot(x='word', y='count', \n",
    "            data=df_hamwords_top30_nltk, ax=ax,palette=sns.color_palette(\"hsv\", len(df_hamwords_top30)))\n",
    "plt.title(\"Top 30 Ham words\")\n",
    "plt.xticks(rotation='vertical');"
   ]
  },
  {
   "cell_type": "code",
   "execution_count": 26,
   "id": "81f2760b-9db7-467c-9b5a-7072b14b6703",
   "metadata": {},
   "outputs": [
    {
     "name": "stderr",
     "output_type": "stream",
     "text": [
      "C:\\Users\\tejas\\AppData\\Local\\Temp\\ipykernel_11560\\1044267636.py:2: FutureWarning: \n",
      "\n",
      "Passing `palette` without assigning `hue` is deprecated and will be removed in v0.14.0. Assign the `x` variable to `hue` and set `legend=False` for the same effect.\n",
      "\n",
      "  sns.barplot(x='word', y='count',\n"
     ]
    },
    {
     "data": {
      "image/png": "[encoded data removed]",
      "text/plain": [
       "<Figure size 1000x600 with 1 Axes>"
      ]
     },
     "metadata": {},
     "output_type": "display_data"
    }
   ],
   "source": [
    "fig, ax = plt.subplots(figsize=(10, 6))\n",
    "sns.barplot(x='word', y='count', \n",
    "            data=df_spamwords_top30_nltk, ax=ax,palette=sns.color_palette(\"hsv\", len(df_hamwords_top30)))\n",
    "plt.title(\"Top 30 Spam words\")\n",
    "plt.xticks(rotation='vertical');"
   ]
  },
  {
   "cell_type": "code",
   "execution_count": 27,
   "id": "197ae21a-bde2-44c9-92ca-d548c73e5cfc",
   "metadata": {},
   "outputs": [],
   "source": [
    "from sklearn.feature_extraction.text import CountVectorizer\n",
    "bow_transformer = CountVectorizer(analyzer = remove_punctuation_and_stopwords).fit(data['text'])\n",
    "sample_spam = data['text'][8]\n",
    "bow_sample_spam = bow_transformer.transform([sample_spam])"
   ]
  },
  {
   "cell_type": "code",
   "execution_count": 28,
   "id": "9a33ec72-3858-4e46-9cea-31b8456064d8",
   "metadata": {},
   "outputs": [
    {
     "name": "stdout",
     "output_type": "stream",
     "text": [
      "Nah I don't think he goes to usf, he lives around here though\n",
      "  (0, 1293)\t1\n",
      "  (0, 2907)\t1\n",
      "  (0, 3800)\t1\n",
      "  (0, 5058)\t1\n",
      "  (0, 5691)\t1\n",
      "  (0, 8307)\t1\n",
      "  (0, 8326)\t1\n",
      "  (0, 8758)\t1\n"
     ]
    }
   ],
   "source": [
    "sample_ham = data['text'][4]\n",
    "bow_sample_ham = bow_transformer.transform([sample_ham])\n",
    "print(sample_ham)\n",
    "print(bow_sample_ham)"
   ]
  },
  {
   "cell_type": "code",
   "execution_count": 29,
   "id": "6a1e0746-b0b3-4fe8-8179-fff272f2e767",
   "metadata": {},
   "outputs": [],
   "source": [
    "bow_data = bow_transformer.transform(data['text'])"
   ]
  },
  {
   "cell_type": "code",
   "execution_count": 30,
   "id": "2439671e-0c0c-41c6-b9cc-c561d94c5bb8",
   "metadata": {},
   "outputs": [
    {
     "name": "stdout",
     "output_type": "stream",
     "text": [
      "0.09435773797860722\n"
     ]
    }
   ],
   "source": [
    "print( bow_data.nnz / (bow_data.shape[0] * bow_data.shape[1]) *100 )"
   ]
  },
  {
   "cell_type": "code",
   "execution_count": 31,
   "id": "e85e0807-24ae-4979-9b20-978a5c11e33d",
   "metadata": {},
   "outputs": [
    {
     "name": "stdout",
     "output_type": "stream",
     "text": [
      "  (0, 8758)\t0.4002215411690469\n",
      "  (0, 8326)\t0.35477337772509704\n",
      "  (0, 8307)\t0.2666884016393785\n",
      "  (0, 5691)\t0.4050980486709611\n",
      "  (0, 5058)\t0.4492867325624261\n",
      "  (0, 3800)\t0.3568885148359025\n",
      "  (0, 2907)\t0.22849175416409648\n",
      "  (0, 1293)\t0.31192142285586666\n"
     ]
    }
   ],
   "source": [
    "from sklearn.feature_extraction.text import TfidfTransformer\n",
    "\n",
    "tfidf_transformer = TfidfTransformer().fit(bow_data)\n",
    "tfidf_sample_ham = tfidf_transformer.transform(bow_sample_ham)\n",
    "print(tfidf_sample_ham)"
   ]
  },
  {
   "cell_type": "code",
   "execution_count": 32,
   "id": "ec603bb1-88b1-4c9c-bb61-d0d1173cfc3b",
   "metadata": {},
   "outputs": [
    {
     "name": "stdout",
     "output_type": "stream",
     "text": [
      "  (0, 9512)\t0.2604704749562644\n",
      "  (0, 9126)\t0.23445410442468242\n",
      "  (0, 8794)\t0.24115538297703254\n",
      "  (0, 8790)\t0.22255196396602828\n",
      "  (0, 7287)\t0.21485018301001318\n",
      "  (0, 7018)\t0.256405203360391\n",
      "  (0, 6847)\t0.29432371435062715\n",
      "  (0, 6607)\t0.17890448987893473\n",
      "  (0, 5767)\t0.21485018301001318\n",
      "  (0, 4811)\t0.29432371435062715\n",
      "  (0, 4238)\t0.22555515434418869\n",
      "  (0, 2554)\t0.19150636249403208\n",
      "  (0, 2267)\t0.21371844502573412\n",
      "  (0, 2206)\t0.34064149340516364\n",
      "  (0, 1927)\t0.1152173145712974\n",
      "  (0, 324)\t0.23877409980487949\n",
      "  (0, 218)\t0.29432371435062715\n"
     ]
    }
   ],
   "source": [
    "tfidf_sample_spam = tfidf_transformer.transform(bow_sample_spam)\n",
    "print(tfidf_sample_spam)"
   ]
  },
  {
   "cell_type": "code",
   "execution_count": 33,
   "id": "b11f490d-84a2-4924-895b-c82fd8e761d6",
   "metadata": {},
   "outputs": [],
   "source": [
    "data_tfidf = tfidf_transformer.transform(bow_data)\n"
   ]
  },
  {
   "cell_type": "code",
   "execution_count": 34,
   "id": "2f9f4446-bc19-4da5-8c42-16712cdd813a",
   "metadata": {},
   "outputs": [],
   "source": [
    "from sklearn.model_selection import train_test_split\n",
    "\n",
    "data_tfidf_train, data_tfidf_test, label_train, label_test = \\\n",
    "    train_test_split(data_tfidf, data[\"spam\"], test_size=0.2, random_state=5)"
   ]
  },
  {
   "cell_type": "code",
   "execution_count": 35,
   "id": "cc335ecb-c2cf-4d57-a272-bb089676cfcd",
   "metadata": {},
   "outputs": [],
   "source": [
    "data_tfidf_train = data_tfidf_train.A\n",
    "data_tfidf_test = data_tfidf_test.A"
   ]
  },
  {
   "cell_type": "code",
   "execution_count": 36,
   "id": "4e54d26e-cab7-4ca9-963a-f7e4649bd288",
   "metadata": {},
   "outputs": [
    {
     "name": "stdout",
     "output_type": "stream",
     "text": [
      "0.9641255605381166\n"
     ]
    }
   ],
   "source": [
    "spam_detect_model = MultinomialNB().fit(data_tfidf_train, label_train)\n",
    "pred_test_MNB = spam_detect_model.predict(data_tfidf_test)\n",
    "acc_MNB = accuracy_score(label_test, pred_test_MNB)\n",
    "print(acc_MNB)"
   ]
  },
  {
   "cell_type": "code",
   "execution_count": 37,
   "id": "33c8b283-2648-4f94-86ee-cb3bba0f33c1",
   "metadata": {},
   "outputs": [],
   "source": [
    "scaler = MinMaxScaler()\n",
    "data_tfidf_train_sc = scaler.fit_transform(data_tfidf_train)\n",
    "data_tfidf_test_sc  = scaler.transform(data_tfidf_test)"
   ]
  },
  {
   "cell_type": "code",
   "execution_count": 38,
   "id": "ba673535-e184-481e-bf93-13470c22ede0",
   "metadata": {},
   "outputs": [
    {
     "name": "stdout",
     "output_type": "stream",
     "text": [
      "0.9829596412556054\n"
     ]
    }
   ],
   "source": [
    "spam_detect_model_minmax = MultinomialNB().fit(data_tfidf_train_sc, label_train)\n",
    "pred_test_MNB = spam_detect_model_minmax.predict(data_tfidf_test_sc)\n",
    "acc_MNB = accuracy_score(label_test, pred_test_MNB)\n",
    "print(acc_MNB)"
   ]
  },
  {
   "cell_type": "code",
   "execution_count": 39,
   "id": "2499465a-ce4c-4d54-90cb-43e49f6a659a",
   "metadata": {},
   "outputs": [],
   "source": [
    "from sklearn.model_selection import train_test_split\n",
    "\n",
    "sms_train, sms_test, label_train, label_test = \\\n",
    "    train_test_split(data[\"text\"], data[\"spam\"], test_size=0.2, random_state=5)"
   ]
  },
  {
   "cell_type": "code",
   "execution_count": 40,
   "id": "8ed3d503-f57f-48b7-bff5-d265444e3b9c",
   "metadata": {},
   "outputs": [],
   "source": [
    "pipe_MNB = Pipeline([ ('bow'  , CountVectorizer(analyzer = remove_punctuation_and_stopwords) ),\n",
    "                   ('tfidf'   , TfidfTransformer()),\n",
    "                   ('clf_MNB' , MultinomialNB()),\n",
    "                    ])"
   ]
  },
  {
   "cell_type": "code",
   "execution_count": 41,
   "id": "29d65d10-0648-4854-bd89-62fd486bbb88",
   "metadata": {},
   "outputs": [
    {
     "name": "stdout",
     "output_type": "stream",
     "text": [
      "0.9668161434977578\n",
      "0.9668161434977578\n"
     ]
    }
   ],
   "source": [
    "pipe_MNB.fit(X=sms_train, y=label_train)\n",
    "pred_test_MNB = pipe_MNB.predict(sms_test)\n",
    "acc_MNB = accuracy_score(label_test, pred_test_MNB)\n",
    "print(acc_MNB)\n",
    "print(pipe_MNB.score(sms_test, label_test))"
   ]
  },
  {
   "cell_type": "code",
   "execution_count": 42,
   "id": "9902a6a2-a9cf-433d-92a5-9b4f2d82dc74",
   "metadata": {},
   "outputs": [],
   "source": [
    "from sklearn.feature_extraction.text import TfidfVectorizer\n",
    "pipe_MNB_tfidfvec = Pipeline([ ('tfidf_vec' , TfidfVectorizer(analyzer = remove_punctuation_and_stopwords)),\n",
    "                               ('clf_MNB'   , MultinomialNB()),\n",
    "                            ])"
   ]
  },
  {
   "cell_type": "code",
   "execution_count": 43,
   "id": "216a35e0-fc4d-48bf-81c2-95b6d860759a",
   "metadata": {},
   "outputs": [
    {
     "name": "stdout",
     "output_type": "stream",
     "text": [
      "0.9668161434977578\n",
      "0.9668161434977578\n"
     ]
    }
   ],
   "source": [
    "pipe_MNB_tfidfvec.fit(X=sms_train, y=label_train)\n",
    "pred_test_MNB_tfidfvec = pipe_MNB_tfidfvec.predict(sms_test)\n",
    "acc_MNB_tfidfvec = accuracy_score(label_test, pred_test_MNB_tfidfvec)\n",
    "print(acc_MNB_tfidfvec)\n",
    "print(pipe_MNB_tfidfvec.score(sms_test, label_test))"
   ]
  },
  {
   "cell_type": "code",
   "execution_count": 44,
   "id": "2c98bfb6-e93f-405b-b73c-250633826c14",
   "metadata": {},
   "outputs": [],
   "source": [
    "from sklearn.metrics import precision_score, recall_score, f1_score\n",
    "from sklearn.metrics import precision_recall_fscore_support\n",
    "from sklearn.metrics import roc_auc_score"
   ]
  },
  {
   "cell_type": "code",
   "execution_count": 52,
   "id": "94506bb9-a72c-4b30-a363-75659e6715eb",
   "metadata": {},
   "outputs": [],
   "source": [
    "def plot_confusion_matrix(y_true, y_pred):\n",
    "    mtx = confusion_matrix(y_true, y_pred)\n",
    "    sns.heatmap(mtx, annot=True, fmt='d', linewidths=.5,  \n",
    "                cmap=\"Blues\", square=True, cbar=False)\n",
    "    #  \n",
    "    plt.ylabel('true label')\n",
    "    plt.xlabel('predicted label')"
   ]
  },
  {
   "cell_type": "code",
   "execution_count": 53,
   "id": "d712957e-4e91-4356-ab38-8e595f6ce423",
   "metadata": {},
   "outputs": [],
   "source": [
    "list_clf = [\"MNB\"]\n",
    "\n",
    "list_pred = [pred_test_MNB]\n",
    "\n",
    "dict_pred = dict(zip(list_clf, list_pred))"
   ]
  },
  {
   "cell_type": "code",
   "execution_count": 54,
   "id": "638d9a7f-9e2c-42f4-92d2-df50b9c80f79",
   "metadata": {},
   "outputs": [],
   "source": [
    "def plot_all_confusion_matrices(y_true, dict_all_pred, str_title):\n",
    "    \n",
    "    list_classifiers = list(dict_all_pred.keys())\n",
    "    plt.figure(figsize=(10,7.5))\n",
    "    plt.suptitle(str_title, fontsize=20, fontweight='bold')\n",
    "    n=231\n",
    "\n",
    "    for clf in list_classifiers : \n",
    "        plt.subplot(n)\n",
    "        plot_confusion_matrix(y_true, dict_all_pred[clf])\n",
    "        plt.title(clf, fontweight='bold')\n",
    "        n+=1\n",
    "\n",
    "    plt.tight_layout()\n",
    "    plt.subplots_adjust(top=0.9)\n",
    "    "
   ]
  },
  {
   "cell_type": "code",
   "execution_count": 55,
   "id": "35ad3287-8676-4b61-a3a2-3d69c14af349",
   "metadata": {},
   "outputs": [
    {
     "data": {
      "image/png": "[encoded data removed]",
      "text/plain": [
       "<Figure size 1000x750 with 1 Axes>"
      ]
     },
     "metadata": {},
     "output_type": "display_data"
    }
   ],
   "source": [
    "plot_all_confusion_matrices(label_test, dict_pred, \"Pipelines v1, scoring=accuracy\")"
   ]
  },
  {
   "cell_type": "code",
   "execution_count": 56,
   "id": "cf9dfb5c-2089-4af8-837c-def2d2f46f58",
   "metadata": {},
   "outputs": [
    {
     "name": "stdout",
     "output_type": "stream",
     "text": [
      "MNB   0.9668161434977578\n"
     ]
    }
   ],
   "source": [
    "dict_acc = {}\n",
    "for clf in list_clf :\n",
    "    dict_acc[clf] = accuracy_score(label_test, dict_pred[clf])\n",
    "for clf in list_clf :\n",
    "    print(clf, \" \" , dict_acc[clf])"
   ]
  },
  {
   "cell_type": "code",
   "execution_count": 57,
   "id": "a9867f96-b636-4dfa-ae45-feac5a65c4d6",
   "metadata": {},
   "outputs": [
    {
     "name": "stdout",
     "output_type": "stream",
     "text": [
      "MNB   1.0\n",
      "MNB   [0.96273917 1.        ]\n"
     ]
    }
   ],
   "source": [
    "for clf in list_clf :\n",
    "    print(clf, \" \", precision_score(label_test, dict_pred[clf]))\n",
    "for clf in list_clf :\n",
    "    print(clf, \" \", precision_score(label_test, dict_pred[clf], average=None, labels=[0,1]))"
   ]
  },
  {
   "cell_type": "code",
   "execution_count": 58,
   "id": "5857b8f0-3df3-4433-9cbd-74702bc8e29f",
   "metadata": {},
   "outputs": [
    {
     "name": "stdout",
     "output_type": "stream",
     "text": [
      "MNB   0.7672955974842768\n",
      "MNB   [1.        0.7672956]\n"
     ]
    }
   ],
   "source": [
    "for clf in list_clf :\n",
    "    print(clf, \" \", recall_score(label_test, dict_pred[clf]))\n",
    "for clf in list_clf :\n",
    "    print(clf, \" \", recall_score(label_test, dict_pred[clf], average=None, labels=[0,1] ))"
   ]
  },
  {
   "cell_type": "code",
   "execution_count": 59,
   "id": "c15187e2-a0ca-4327-abbb-8568acc082b0",
   "metadata": {},
   "outputs": [
    {
     "name": "stdout",
     "output_type": "stream",
     "text": [
      "MNB   [0.98101591 0.8683274 ]\n"
     ]
    }
   ],
   "source": [
    "for clf in list_clf :\n",
    "    print(clf, \" \", f1_score(label_test, dict_pred[clf], average=None, labels=[0,1] ))"
   ]
  },
  {
   "cell_type": "code",
   "execution_count": 63,
   "id": "e0497d47-5f26-4a5e-ad1d-f258d47e8698",
   "metadata": {},
   "outputs": [
    {
     "name": "stdout",
     "output_type": "stream",
     "text": [
      "Model exported suucessfully!\n"
     ]
    }
   ],
   "source": [
    "import pickle\n",
    "\n",
    "with open('message classifier model.pkl', 'wb') as file:\n",
    "    pickle.dump(pipe_MNB, file)\n",
    "\n",
    "print(\"Model exported suucessfully!\")\n"
   ]
  },
  {
   "cell_type": "code",
   "execution_count": null,
   "id": "d1a5889b",
   "metadata": {},
   "outputs": [],
   "source": []
  }
 ],
 "metadata": {
  "kernelspec": {
   "display_name": "base",
   "language": "python",
   "name": "python3"
  },
  "language_info": {
   "codemirror_mode": {
    "name": "ipython",
    "version": 3
   },
   "file_extension": ".py",
   "mimetype": "text/x-python",
   "name": "python",
   "nbconvert_exporter": "python",
   "pygments_lexer": "ipython3",
   "version": "3.12.4"
  }
 },
 "nbformat": 4,
 "nbformat_minor": 5
}
